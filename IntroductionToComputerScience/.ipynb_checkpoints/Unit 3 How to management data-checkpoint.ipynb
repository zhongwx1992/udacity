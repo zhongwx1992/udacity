{
 "cells": [
  {
   "cell_type": "code",
   "execution_count": 1,
   "metadata": {},
   "outputs": [
    {
     "name": "stdout",
     "output_type": "stream",
     "text": [
      "31\n",
      "30\n"
     ]
    }
   ],
   "source": [
    "### list 列表，有顺序，可变\n",
    "### 字符不可变 immutable mutable\n",
    "\n",
    "####  列表操作\n",
    "## 1. append 列表末尾添加  <list>.append(<element>)\n",
    "## 2. plus   列表相加  <list> + <list>\n",
    "##    [0,1] + [2,3] ----> [0,1,2,3]\n",
    "## 3. len(<object>)  获得对象的长度\n",
    "## 4. index , in and not in\n",
    "#    <list>.index(<value>) \n",
    "#      if <value> is in the <list>, return the first position \n",
    "#      where <value> is found in <list>\n",
    "#  \n",
    "#    <value> in <list>\n",
    "#      if <value> is in the <list>, output is True.\n",
    "#      otherwise, output is False\n",
    "#\n",
    "#    <value> not in <list>\n",
    "#\n",
    "## 5. union\n",
    "#    a = [1,2,3] \n",
    "#    b = [2,4,6]\n",
    "#    union(a,b)\n",
    "## 6. pop\n",
    "#    <list>.pop() \n",
    "#    mutates the list by removing, and returning its last element\n",
    "\n",
    "\n",
    "\n",
    "\n",
    "\n",
    "\n",
    "\n",
    "\n",
    "# Given the variable,\n",
    "\n",
    "days_in_month = [31,28,31,30,31,30,31,31,30,31,30,31]\n",
    "\n",
    "# define a procedure, how_many_days,\n",
    "# that takes as input a number\n",
    "# representing a month, and returns\n",
    "# the number of days in that month.\n",
    "\n",
    "def how_many_days(month_number):\n",
    "    return days_in_month[month_number - 1]\n",
    "\n",
    "print how_many_days(1)\n",
    "print how_many_days(9)\n",
    "#print how_many_days(1)\n",
    "#>>> 31\n",
    "\n",
    "#print how_many_days(9)\n",
    "#>>> 30   \n"
   ]
  },
  {
   "cell_type": "code",
   "execution_count": 16,
   "metadata": {},
   "outputs": [
    {
     "name": "stdout",
     "output_type": "stream",
     "text": [
      "1024\n"
     ]
    }
   ],
   "source": [
    "print 2 ** 10"
   ]
  },
  {
   "cell_type": "code",
   "execution_count": 7,
   "metadata": {},
   "outputs": [
    {
     "ename": "NameError",
     "evalue": "name 'union' is not defined",
     "output_type": "error",
     "traceback": [
      "\u001b[0;31m---------------------------------------------------------------------------\u001b[0m",
      "\u001b[0;31mNameError\u001b[0m                                 Traceback (most recent call last)",
      "\u001b[0;32m<ipython-input-7-2b330a2257ef>\u001b[0m in \u001b[0;36m<module>\u001b[0;34m()\u001b[0m\n\u001b[1;32m      1\u001b[0m \u001b[0ma\u001b[0m \u001b[0;34m=\u001b[0m \u001b[0;34m[\u001b[0m\u001b[0;36m1\u001b[0m\u001b[0;34m,\u001b[0m\u001b[0;36m2\u001b[0m\u001b[0;34m,\u001b[0m\u001b[0;36m3\u001b[0m\u001b[0;34m]\u001b[0m\u001b[0;34m\u001b[0m\u001b[0m\n\u001b[1;32m      2\u001b[0m \u001b[0mb\u001b[0m \u001b[0;34m=\u001b[0m \u001b[0;34m[\u001b[0m\u001b[0;36m2\u001b[0m\u001b[0;34m,\u001b[0m\u001b[0;36m4\u001b[0m\u001b[0;34m,\u001b[0m\u001b[0;36m6\u001b[0m\u001b[0;34m]\u001b[0m\u001b[0;34m\u001b[0m\u001b[0m\n\u001b[0;32m----> 3\u001b[0;31m \u001b[0munion\u001b[0m\u001b[0;34m(\u001b[0m\u001b[0ma\u001b[0m\u001b[0;34m,\u001b[0m\u001b[0mb\u001b[0m\u001b[0;34m)\u001b[0m\u001b[0;34m\u001b[0m\u001b[0m\n\u001b[0m\u001b[1;32m      4\u001b[0m \u001b[0ma\u001b[0m\u001b[0;34m\u001b[0m\u001b[0m\n",
      "\u001b[0;31mNameError\u001b[0m: name 'union' is not defined"
     ]
    }
   ],
   "source": [
    "a = [1,2,3] \n",
    "b = [2,4,6]\n",
    "union(a,b)\n",
    "a"
   ]
  },
  {
   "cell_type": "code",
   "execution_count": 15,
   "metadata": {},
   "outputs": [
    {
     "name": "stdout",
     "output_type": "stream",
     "text": [
      "['Moe', 'Larry', 'Shemp']\n"
     ]
    }
   ],
   "source": [
    "# We defined:\n",
    "\n",
    "stooges = ['Moe','Larry','Curly']\n",
    "\n",
    "# but in some Stooges films, Curly was\n",
    "# replaced by Shemp.\n",
    "\n",
    "# Write one line of code that changes\n",
    "# the value of stooges to be:\n",
    "\n",
    "s = ['Moe','Larry','Shemp']\n",
    "\n",
    "\n",
    "# but does not create a new List\n",
    "# object.\n",
    "\n",
    "stooges[2] = s [2]\n",
    "\n",
    "\n",
    "print(stooges)"
   ]
  },
  {
   "cell_type": "code",
   "execution_count": 6,
   "metadata": {},
   "outputs": [
    {
     "name": "stdout",
     "output_type": "stream",
     "text": [
      "-1\n",
      "0\n"
     ]
    }
   ],
   "source": [
    "# Define a procedure, find_element,\n",
    "# using index that takes as its\n",
    "# inputs a list and a value of any\n",
    "# type, and returns the index of\n",
    "# the first element in the input\n",
    "# list that matches the value.\n",
    "\n",
    "# If there is no matching element,\n",
    "# return -1.\n",
    "\n",
    "\n",
    "def find_element(p, t):\n",
    "    i = 0 \n",
    "    while i < len(p):\n",
    "        if p[i] == t:\n",
    "            return i\n",
    "        i = i + 1\n",
    "    return -1\n",
    "\n",
    "\n",
    "def find_element2(p, t):\n",
    "    i = 0\n",
    "    for e in p:\n",
    "        if e == t:\n",
    "            return i \n",
    "        i = i + 1\n",
    "    return -1\n",
    "\n",
    "p = [0,1,2]\n",
    "print find_element(p, 3)\n",
    "\n",
    "m = \"hello\"\n",
    "print find_element(m, \"h\")"
   ]
  },
  {
   "cell_type": "code",
   "execution_count": null,
   "metadata": {
    "collapsed": true
   },
   "outputs": [],
   "source": [
    "def find_element(p, t):\n",
    "    \n",
    "    if t in p:\n",
    "        return p.index(t)\n",
    "    else:\n",
    "        return -1"
   ]
  },
  {
   "cell_type": "code",
   "execution_count": 8,
   "metadata": {},
   "outputs": [
    {
     "name": "stdout",
     "output_type": "stream",
     "text": [
      "[1, 2, 3, 4, 6]\n"
     ]
    }
   ],
   "source": [
    "# Define a procedure, union,\n",
    "# that takes as inputs two lists.\n",
    "# It should modify the first input\n",
    "# list to be the set union of the two\n",
    "# lists. You may assume the first list\n",
    "# is a set, that is, it contains no \n",
    "# repeated elements.\n",
    "\n",
    "def union(p, q):\n",
    "    for e in q:\n",
    "        if e not in p:\n",
    "            p.append(e)\n",
    "\n",
    "a = [1,2,3]\n",
    "b = [3,4,6]\n",
    "union(a,b)\n",
    "print a\n",
    "\n",
    "\n",
    "# To test, uncomment all lines \n",
    "# below except those beginning with >>>.\n",
    "\n",
    "#a = [1,2,3]\n",
    "#b = [2,4,6]\n",
    "#union(a,b)\n",
    "#print a \n",
    "#>>> [1,2,3,4,6]\n",
    "#print b\n",
    "#>>> [2,4,6]"
   ]
  },
  {
   "cell_type": "code",
   "execution_count": null,
   "metadata": {
    "collapsed": true
   },
   "outputs": [],
   "source": []
  },
  {
   "cell_type": "code",
   "execution_count": null,
   "metadata": {
    "collapsed": true
   },
   "outputs": [],
   "source": []
  },
  {
   "cell_type": "code",
   "execution_count": null,
   "metadata": {
    "collapsed": true
   },
   "outputs": [],
   "source": []
  },
  {
   "cell_type": "code",
   "execution_count": null,
   "metadata": {
    "collapsed": true
   },
   "outputs": [],
   "source": []
  },
  {
   "cell_type": "code",
   "execution_count": null,
   "metadata": {
    "collapsed": true
   },
   "outputs": [],
   "source": []
  },
  {
   "cell_type": "code",
   "execution_count": null,
   "metadata": {
    "collapsed": true
   },
   "outputs": [],
   "source": []
  },
  {
   "cell_type": "code",
   "execution_count": null,
   "metadata": {
    "collapsed": true
   },
   "outputs": [],
   "source": []
  },
  {
   "cell_type": "code",
   "execution_count": null,
   "metadata": {
    "collapsed": true
   },
   "outputs": [],
   "source": []
  },
  {
   "cell_type": "code",
   "execution_count": null,
   "metadata": {
    "collapsed": true
   },
   "outputs": [],
   "source": []
  },
  {
   "cell_type": "code",
   "execution_count": null,
   "metadata": {
    "collapsed": true
   },
   "outputs": [],
   "source": []
  },
  {
   "cell_type": "code",
   "execution_count": null,
   "metadata": {
    "collapsed": true
   },
   "outputs": [],
   "source": []
  },
  {
   "cell_type": "code",
   "execution_count": null,
   "metadata": {
    "collapsed": true
   },
   "outputs": [],
   "source": []
  },
  {
   "cell_type": "code",
   "execution_count": null,
   "metadata": {
    "collapsed": true
   },
   "outputs": [],
   "source": []
  },
  {
   "cell_type": "code",
   "execution_count": null,
   "metadata": {
    "collapsed": true
   },
   "outputs": [],
   "source": []
  }
 ],
 "metadata": {
  "kernelspec": {
   "display_name": "Python 2",
   "language": "python",
   "name": "python2"
  },
  "language_info": {
   "codemirror_mode": {
    "name": "ipython",
    "version": 2
   },
   "file_extension": ".py",
   "mimetype": "text/x-python",
   "name": "python",
   "nbconvert_exporter": "python",
   "pygments_lexer": "ipython2",
   "version": "2.7.13"
  }
 },
 "nbformat": 4,
 "nbformat_minor": 2
}
