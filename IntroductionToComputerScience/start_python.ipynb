{
 "cells": [
  {
   "cell_type": "markdown",
   "metadata": {},
   "source": [
    "## 1 编程之旅的开启  BNF 巴科斯范式的内容\n"
   ]
  },
  {
   "cell_type": "markdown",
   "metadata": {},
   "source": [
    "### 1.1 字符串的查找\n",
    "### find 输出字符串存在的第一个位置，如果字符串不存在，则返回 -1 ， 对大小写敏感，且如果查找‘ ’空字符串，都是返回0\n",
    "###  string.find(\"ab\",0) = string.find(\"ab\"),   string.find(\"ab\",5) 从第五位开始查找"
   ]
  },
  {
   "cell_type": "code",
   "execution_count": 2,
   "metadata": {},
   "outputs": [
    {
     "name": "stdout",
     "output_type": "stream",
     "text": [
      "-1\n",
      "0\n"
     ]
    }
   ],
   "source": [
    "ab = \"Test\"\n",
    "print(ab.find(\"te\"))\n",
    "print(ab.find(''))"
   ]
  },
  {
   "cell_type": "code",
   "execution_count": null,
   "metadata": {
    "collapsed": true
   },
   "outputs": [],
   "source": [
    "<string>.find(\"ab\",0) = <string>.find(\"ab\")"
   ]
  },
  {
   "cell_type": "code",
   "execution_count": null,
   "metadata": {
    "collapsed": true
   },
   "outputs": [],
   "source": []
  },
  {
   "cell_type": "code",
   "execution_count": 3,
   "metadata": {},
   "outputs": [
    {
     "name": "stdout",
     "output_type": "stream",
     "text": [
      "<\n"
     ]
    }
   ],
   "source": [
    "page =('<div id=\"top_bin\"><div id=\"top_content\" class=\"width960\">'\n",
    "'<div class=\"udacity float-left\"><a href=\"http://udacity.com\">')\n",
    "start_link = page.find('<a href=')\n",
    "print(page[start_link]) "
   ]
  },
  {
   "cell_type": "code",
   "execution_count": 5,
   "metadata": {},
   "outputs": [
    {
     "data": {
      "text/plain": [
       "8"
      ]
     },
     "execution_count": 5,
     "metadata": {},
     "output_type": "execute_result"
    }
   ],
   "source": [
    "page[start_link:].find(\"\\\"\")"
   ]
  },
  {
   "cell_type": "code",
   "execution_count": 16,
   "metadata": {},
   "outputs": [
    {
     "data": {
      "text/plain": [
       "'http://udacity.com'"
      ]
     },
     "execution_count": 16,
     "metadata": {},
     "output_type": "execute_result"
    }
   ],
   "source": [
    "url = page[start_link+page[start_link:].find(\"\\\"\") + 1: start_link + page[start_link:].find(\"\\\"\",10)]"
   ]
  },
  {
   "cell_type": "code",
   "execution_count": null,
   "metadata": {
    "collapsed": true
   },
   "outputs": [],
   "source": []
  },
  {
   "cell_type": "code",
   "execution_count": 2,
   "metadata": {
    "collapsed": true
   },
   "outputs": [],
   "source": [
    "# Given the variables s and t defined as:\n",
    "s = 'udacity'\n",
    "t = 'bodacious'\n",
    "# write Python code that prints out udacious\n",
    "# without using any quote characters in\n",
    "# your code\n",
    "\n",
    "\n",
    "print(s[0]+t[3:])\n",
    "\n",
    "\n",
    "print(s[s.find(\"u\")] + t[t.find(\"d\"):]"
   ]
  },
  {
   "cell_type": "code",
   "execution_count": 6,
   "metadata": {},
   "outputs": [
    {
     "name": "stdout",
     "output_type": "stream",
     "text": [
      "6\n"
     ]
    }
   ],
   "source": [
    "# Assume text is a variable that\n",
    "# holds a string. Write Python code\n",
    "# that prints out the position\n",
    "# of the first occurrence of 'hoo'\n",
    "# in the value of text, or -1 if\n",
    "# it does not occur at all.\n",
    "\n",
    "text = \"first hoo\" \n",
    "\n",
    "# ENTER CODE BELOW HERE\n",
    "\n",
    "\n",
    "print(text.find(\"hoo\"))\n",
    "\n"
   ]
  },
  {
   "cell_type": "code",
   "execution_count": 10,
   "metadata": {},
   "outputs": [
    {
     "data": {
      "text/plain": [
       "-1"
      ]
     },
     "execution_count": 10,
     "metadata": {},
     "output_type": "execute_result"
    }
   ],
   "source": [
    "# Assume text is a variable that\n",
    "# holds a string. Write Python code\n",
    "# that prints out the position\n",
    "# of the second occurrence of 'zip'\n",
    "# in text, or -1 if it does not occur\n",
    "# at least twice.\n",
    "\n",
    "# The Python code should be general enough\n",
    "# to pass every possible case where 'zip' \n",
    "# can occur in a string\n",
    "\n",
    "# Here are two example test cases:\n",
    "#text = 'all zip files are zipped' \n",
    "# >>> 18\n",
    "# text = 'all zip files are compressed'\n",
    "# >>> -1\n",
    "\n",
    "text = \"all zip files are zipped\" \n",
    "\n",
    "# ENTER CODE BELOW HERE\n",
    "\n",
    "\n",
    "text.find(\"zip\",text.find(\"zip\")+1)\n",
    "\n",
    "\n",
    "text = 'all zip files are compressed'\n",
    "text.find(\"zip\",text.find(\"zip\")+1)\n",
    "# IMPORTANT BEFORE SUBMITTING: \n",
    "# You should only have one print command in your function\n",
    "\n"
   ]
  },
  {
   "cell_type": "code",
   "execution_count": null,
   "metadata": {
    "collapsed": true
   },
   "outputs": [],
   "source": []
  },
  {
   "cell_type": "code",
   "execution_count": 17,
   "metadata": {},
   "outputs": [
    {
     "data": {
      "text/plain": [
       "'Udacity'"
      ]
     },
     "execution_count": 17,
     "metadata": {},
     "output_type": "execute_result"
    }
   ],
   "source": [
    "s = \"CidatyUcityda\"\n",
    "\n",
    "s[6:]\n",
    "\n",
    "\n",
    "s[6:][0] + s[6:][-2:] + s[6:][1:-2]"
   ]
  },
  {
   "cell_type": "code",
   "execution_count": null,
   "metadata": {
    "collapsed": true
   },
   "outputs": [],
   "source": []
  },
  {
   "cell_type": "code",
   "execution_count": null,
   "metadata": {
    "collapsed": true
   },
   "outputs": [],
   "source": [
    "#CS262 程序语言课程"
   ]
  },
  {
   "cell_type": "code",
   "execution_count": null,
   "metadata": {
    "collapsed": true
   },
   "outputs": [],
   "source": [
    "# With great power, comes great responsibility."
   ]
  },
  {
   "cell_type": "code",
   "execution_count": null,
   "metadata": {
    "collapsed": true
   },
   "outputs": [],
   "source": []
  },
  {
   "cell_type": "code",
   "execution_count": 23,
   "metadata": {},
   "outputs": [
    {
     "name": "stdout",
     "output_type": "stream",
     "text": [
      "1\n"
     ]
    },
    {
     "data": {
      "text/plain": [
       "3"
      ]
     },
     "execution_count": 23,
     "metadata": {},
     "output_type": "execute_result"
    }
   ],
   "source": [
    "def sum(a,b):\n",
    "    print(a)\n",
    "    a = a + b\n",
    "    return a \n",
    "#print(sum(1,2))\n",
    "#print(a)\n",
    "c = 1\n",
    "d = 3\n",
    "\n",
    "#print(sum(c,d))\n",
    "\n",
    "sum(1,2)"
   ]
  },
  {
   "cell_type": "code",
   "execution_count": null,
   "metadata": {
    "collapsed": true
   },
   "outputs": [],
   "source": [
    "## 循环\n",
    "\n",
    "if <TestExpression>:\n",
    "    <block>\n",
    "else:\n",
    "    <block>\n",
    "# 0 or 1 times\n",
    "    \n",
    "    \n",
    "    \n",
    "while <TestExpression>:\n",
    "    <block>\n",
    "    \n",
    "# 0,1,2,3 ... ,times"
   ]
  },
  {
   "cell_type": "code",
   "execution_count": null,
   "metadata": {
    "collapsed": true
   },
   "outputs": [],
   "source": [
    "def is_friend"
   ]
  },
  {
   "cell_type": "code",
   "execution_count": null,
   "metadata": {
    "collapsed": true
   },
   "outputs": [],
   "source": []
  },
  {
   "cell_type": "code",
   "execution_count": 24,
   "metadata": {},
   "outputs": [
    {
     "data": {
      "text/plain": [
       "2"
      ]
     },
     "execution_count": 24,
     "metadata": {},
     "output_type": "execute_result"
    }
   ],
   "source": [
    "#返回最大值\n",
    "\n",
    "def biggest(a, b):\n",
    "    if a > b:\n",
    "        return a\n",
    "    else:\n",
    "        return b"
   ]
  },
  {
   "cell_type": "code",
   "execution_count": 25,
   "metadata": {},
   "outputs": [
    {
     "data": {
      "text/plain": [
       "9"
      ]
     },
     "execution_count": 25,
     "metadata": {},
     "output_type": "execute_result"
    }
   ],
   "source": [
    "biggest(5,biggest(7,9))"
   ]
  },
  {
   "cell_type": "code",
   "execution_count": 29,
   "metadata": {},
   "outputs": [
    {
     "name": "stdout",
     "output_type": "stream",
     "text": [
      "120\n",
      "120\n"
     ]
    }
   ],
   "source": [
    "####阶乘\n",
    "\n",
    "def factorial(n):\n",
    "    i = 1\n",
    "    m = 1\n",
    "    while i <= n:\n",
    "        m = m * i\n",
    "        i = i + 1\n",
    "    return m\n",
    "print factorial(5)\n",
    "\n",
    "    \n",
    "### 阶乘 \n",
    "def factorial(n):\n",
    "    result = 1\n",
    "    while n >= 1:\n",
    "        result = result * n\n",
    "        n = n - 1\n",
    "    return result\n",
    "\n",
    "        \n",
    "print factorial(5)"
   ]
  },
  {
   "cell_type": "code",
   "execution_count": null,
   "metadata": {
    "collapsed": true
   },
   "outputs": [],
   "source": []
  },
  {
   "cell_type": "markdown",
   "metadata": {},
   "source": [
    "### break \n",
    "\n",
    "#### it is a great function\n",
    "#### 跳出当前循环"
   ]
  },
  {
   "cell_type": "code",
   "execution_count": 30,
   "metadata": {},
   "outputs": [
    {
     "name": "stdout",
     "output_type": "stream",
     "text": [
      "1\n",
      "2\n",
      "3\n",
      "4\n",
      "5\n"
     ]
    }
   ],
   "source": [
    "def print_number(n):\n",
    "    i = 1\n",
    "    while True:\n",
    "        if i > n:\n",
    "            break\n",
    "        print i \n",
    "        i = i + 1\n",
    "print_number(5)"
   ]
  },
  {
   "cell_type": "code",
   "execution_count": 31,
   "metadata": {},
   "outputs": [
    {
     "name": "stdout",
     "output_type": "stream",
     "text": [
      "2 1\n"
     ]
    }
   ],
   "source": [
    "s = 1\n",
    "t = 2\n",
    "s,t = t, s  # 交换值\n",
    "print s,t"
   ]
  },
  {
   "cell_type": "code",
   "execution_count": null,
   "metadata": {
    "collapsed": true
   },
   "outputs": [],
   "source": []
  },
  {
   "cell_type": "code",
   "execution_count": null,
   "metadata": {
    "collapsed": true
   },
   "outputs": [],
   "source": [
    "def get_next_target(page):\n",
    "    start_link = page.find('<a href=')\n",
    "\n",
    "    #Insert your code below here\n",
    "    if start_link == -1:\n",
    "        return None,0\n",
    "    start_quote = page.find('\"', start_link)\n",
    "    end_quote = page.find('\"', start_quote + 1)\n",
    "    url = page[start_quote + 1:end_quote]\n",
    "    return url, end_quote"
   ]
  },
  {
   "cell_type": "code",
   "execution_count": null,
   "metadata": {
    "collapsed": true
   },
   "outputs": [],
   "source": [
    "def get_page(url):\n",
    "    try:\n",
    "        import urllib\n",
    "        return urllib.urlopen(url).read()\n",
    "    except:\n",
    "        return ''"
   ]
  },
  {
   "cell_type": "code",
   "execution_count": 32,
   "metadata": {},
   "outputs": [
    {
     "data": {
      "text/plain": [
       "2"
      ]
     },
     "execution_count": 32,
     "metadata": {},
     "output_type": "execute_result"
    }
   ],
   "source": [
    "####  简直不要太厉害\n",
    "def find_last(s,t):\n",
    "    last_pos = -1\n",
    "    while True:\n",
    "        pos = s.find(t,last_pos + 1)\n",
    "        if pos == -1:\n",
    "            return last_pos\n",
    "        last_pos = pos\n",
    "        \n",
    "find_last(\"aaa\",\"a\")"
   ]
  },
  {
   "cell_type": "code",
   "execution_count": 36,
   "metadata": {},
   "outputs": [
    {
     "name": "stdout",
     "output_type": "stream",
     "text": [
      "1  *  1  =  1\n",
      "1  *  2  =  2\n",
      "2  *  1  =  2\n",
      "2  *  2  =  4\n"
     ]
    }
   ],
   "source": [
    "def print_multiplication_table(n):\n",
    "    i = 1\n",
    "    while i <= n:\n",
    "        for m in range(1,n+1):\n",
    "            print i,\" * \",m,\" = \",i * m\n",
    "        i = i + 1\n",
    "    \n",
    "    \n",
    "print_multiplication_table(2)\n",
    "    "
   ]
  },
  {
   "cell_type": "code",
   "execution_count": 38,
   "metadata": {},
   "outputs": [
    {
     "name": "stdout",
     "output_type": "stream",
     "text": [
      "1  *  1  =  1\n",
      "1  *  2  =  2\n",
      "2  *  1  =  2\n",
      "2  *  2  =  4\n"
     ]
    }
   ],
   "source": [
    "def print_multiplication_table(n):\n",
    "    i = 1\n",
    "    while i <= n:\n",
    "        m = 1\n",
    "        while m <= n:\n",
    "            print i,\" * \",m,\" = \",i * m\n",
    "            m = m + 1\n",
    "            \n",
    "        i = i + 1\n",
    "    \n",
    "    \n",
    "print_multiplication_table(2)"
   ]
  },
  {
   "cell_type": "code",
   "execution_count": null,
   "metadata": {
    "collapsed": true
   },
   "outputs": [],
   "source": []
  },
  {
   "cell_type": "code",
   "execution_count": 41,
   "metadata": {},
   "outputs": [
    {
     "name": "stdout",
     "output_type": "stream",
     "text": [
      "6\n",
      "17.6\n"
     ]
    }
   ],
   "source": [
    "# The range of a set of values is the maximum value minus the minimum\n",
    "# value. Define a procedure, set_range, which returns the range of three input\n",
    "# values.\n",
    "\n",
    "# Hint: the procedure, biggest which you coded in this unit\n",
    "# might help you with this question. You might also like to find a way to\n",
    "# code it using some built-in functions.\n",
    "def biggest(a, b):\n",
    "    if a > b:\n",
    "        return a\n",
    "    else:\n",
    "        return b\n",
    "def minmum(a,b):\n",
    "    if a > b:\n",
    "        return b\n",
    "    else:\n",
    "        return a\n",
    "\n",
    "biggest(1,biggest(2,3))\n",
    "\n",
    "def set_range(a,b,c):\n",
    "    # Your code here\n",
    "    max = biggest(a,biggest(b,c))\n",
    "    min = minmum(a,minmum(b,c))\n",
    "    return max - min\n",
    "\n",
    "print set_range(10, 4, 7)\n",
    "#>>> 6  # since 10 - 4 = 6\n",
    "\n",
    "print set_range(1.1, 7.4, 18.7)\n",
    "#>>> 17.6 # since 18.7 - 1.1 = 17.6\n"
   ]
  },
  {
   "cell_type": "code",
   "execution_count": null,
   "metadata": {
    "collapsed": true
   },
   "outputs": [],
   "source": []
  },
  {
   "cell_type": "code",
   "execution_count": null,
   "metadata": {
    "collapsed": true
   },
   "outputs": [],
   "source": []
  },
  {
   "cell_type": "code",
   "execution_count": null,
   "metadata": {
    "collapsed": true
   },
   "outputs": [],
   "source": []
  },
  {
   "cell_type": "code",
   "execution_count": null,
   "metadata": {
    "collapsed": true
   },
   "outputs": [],
   "source": []
  },
  {
   "cell_type": "code",
   "execution_count": null,
   "metadata": {
    "collapsed": true
   },
   "outputs": [],
   "source": []
  },
  {
   "cell_type": "code",
   "execution_count": null,
   "metadata": {
    "collapsed": true
   },
   "outputs": [],
   "source": []
  },
  {
   "cell_type": "code",
   "execution_count": null,
   "metadata": {
    "collapsed": true
   },
   "outputs": [],
   "source": []
  },
  {
   "cell_type": "code",
   "execution_count": null,
   "metadata": {
    "collapsed": true
   },
   "outputs": [],
   "source": []
  },
  {
   "cell_type": "code",
   "execution_count": null,
   "metadata": {
    "collapsed": true
   },
   "outputs": [],
   "source": []
  },
  {
   "cell_type": "code",
   "execution_count": null,
   "metadata": {
    "collapsed": true
   },
   "outputs": [],
   "source": []
  },
  {
   "cell_type": "code",
   "execution_count": null,
   "metadata": {
    "collapsed": true
   },
   "outputs": [],
   "source": []
  },
  {
   "cell_type": "code",
   "execution_count": null,
   "metadata": {
    "collapsed": true
   },
   "outputs": [],
   "source": []
  },
  {
   "cell_type": "code",
   "execution_count": null,
   "metadata": {
    "collapsed": true
   },
   "outputs": [],
   "source": []
  },
  {
   "cell_type": "code",
   "execution_count": null,
   "metadata": {
    "collapsed": true
   },
   "outputs": [],
   "source": []
  },
  {
   "cell_type": "code",
   "execution_count": null,
   "metadata": {
    "collapsed": true
   },
   "outputs": [],
   "source": []
  },
  {
   "cell_type": "code",
   "execution_count": null,
   "metadata": {
    "collapsed": true
   },
   "outputs": [],
   "source": []
  },
  {
   "cell_type": "code",
   "execution_count": null,
   "metadata": {
    "collapsed": true
   },
   "outputs": [],
   "source": []
  },
  {
   "cell_type": "code",
   "execution_count": null,
   "metadata": {
    "collapsed": true
   },
   "outputs": [],
   "source": []
  },
  {
   "cell_type": "code",
   "execution_count": null,
   "metadata": {
    "collapsed": true
   },
   "outputs": [],
   "source": []
  }
 ],
 "metadata": {
  "kernelspec": {
   "display_name": "Python 2",
   "language": "python",
   "name": "python2"
  },
  "language_info": {
   "codemirror_mode": {
    "name": "ipython",
    "version": 2
   },
   "file_extension": ".py",
   "mimetype": "text/x-python",
   "name": "python",
   "nbconvert_exporter": "python",
   "pygments_lexer": "ipython2",
   "version": "2.7.13"
  }
 },
 "nbformat": 4,
 "nbformat_minor": 2
}
